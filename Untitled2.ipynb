{
  "nbformat": 4,
  "nbformat_minor": 0,
  "metadata": {
    "colab": {
      "provenance": [],
      "toc_visible": true,
      "authorship_tag": "ABX9TyOhh3eeTbb3Uf0kxZlEkcER",
      "include_colab_link": true
    },
    "kernelspec": {
      "name": "python3",
      "display_name": "Python 3"
    },
    "language_info": {
      "name": "python"
    }
  },
  "cells": [
    {
      "cell_type": "markdown",
      "metadata": {
        "id": "view-in-github",
        "colab_type": "text"
      },
      "source": [
        "<a href=\"https://colab.research.google.com/github/yunyoung21/OHMY/blob/main/Untitled2.ipynb\" target=\"_parent\"><img src=\"https://colab.research.google.com/assets/colab-badge.svg\" alt=\"Open In Colab\"/></a>"
      ]
    },
    {
      "cell_type": "code",
      "execution_count": null,
      "metadata": {
        "id": "dMIpoRcNEfq7",
        "outputId": "afd97e36-7d03-4663-b1ae-377bbc532e4e",
        "colab": {
          "base_uri": "https://localhost:8080/"
        }
      },
      "outputs": [
        {
          "output_type": "stream",
          "name": "stdout",
          "text": [
            "1 2 3 4 5 6 7 8 9 10\n",
            "[2, 4, 6, 7, 8, 9, 10]\n"
          ]
        }
      ],
      "source": [
        "a=list(map(int,input().split()))\n",
        "avg=sum(a)/len(a)\n",
        "for i in a:\n",
        "  if i<avg:\n",
        "    a.remove(i)\n",
        "print(a)"
      ]
    }
  ]
}